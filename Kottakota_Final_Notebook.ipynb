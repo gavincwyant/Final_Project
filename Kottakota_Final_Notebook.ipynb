{
 "cells": [
  {
   "cell_type": "markdown",
   "metadata": {},
   "source": [
    "# Final Project #\n",
    "## Avinash Kottakota ##"
   ]
  },
  {
   "cell_type": "markdown",
   "metadata": {},
   "source": [
    "## Work prior to Wednesday, April 3rd: ##\n",
    "##### I found a bunch of potential data sets to use and decided on using Parks for my own dataset to analyze #####"
   ]
  },
  {
   "cell_type": "markdown",
   "metadata": {},
   "source": [
    "## Wednesday, April 3rd ##"
   ]
  },
  {
   "cell_type": "code",
   "execution_count": 13,
   "metadata": {},
   "outputs": [
    {
     "data": {
      "text/html": [
       "<div>\n",
       "<style scoped>\n",
       "    .dataframe tbody tr th:only-of-type {\n",
       "        vertical-align: middle;\n",
       "    }\n",
       "\n",
       "    .dataframe tbody tr th {\n",
       "        vertical-align: top;\n",
       "    }\n",
       "\n",
       "    .dataframe thead th {\n",
       "        text-align: right;\n",
       "    }\n",
       "</style>\n",
       "<table border=\"1\" class=\"dataframe\">\n",
       "  <thead>\n",
       "    <tr style=\"text-align: right;\">\n",
       "      <th></th>\n",
       "      <th>_id</th>\n",
       "      <th>id</th>\n",
       "      <th>name</th>\n",
       "      <th>type</th>\n",
       "      <th>maintenance_responsibility</th>\n",
       "      <th>image</th>\n",
       "      <th>neighborhood</th>\n",
       "      <th>council_district</th>\n",
       "      <th>ward</th>\n",
       "      <th>tract</th>\n",
       "      <th>public_works_division</th>\n",
       "      <th>pli_division</th>\n",
       "      <th>police_zone</th>\n",
       "      <th>fire_zone</th>\n",
       "      <th>latitude</th>\n",
       "      <th>longitude</th>\n",
       "    </tr>\n",
       "  </thead>\n",
       "  <tbody>\n",
       "    <tr>\n",
       "      <th>0</th>\n",
       "      <td>1</td>\n",
       "      <td>2111959181</td>\n",
       "      <td>Able Long Park</td>\n",
       "      <td>Park</td>\n",
       "      <td>Parks - Southern</td>\n",
       "      <td>https://tools.wprdc.org/images/pittsburgh/park...</td>\n",
       "      <td>Beechview</td>\n",
       "      <td>4</td>\n",
       "      <td>19</td>\n",
       "      <td>42003192000</td>\n",
       "      <td>5</td>\n",
       "      <td>19</td>\n",
       "      <td>6</td>\n",
       "      <td>4-28</td>\n",
       "      <td>40.408118</td>\n",
       "      <td>-80.028197</td>\n",
       "    </tr>\n",
       "    <tr>\n",
       "      <th>1</th>\n",
       "      <td>2</td>\n",
       "      <td>1109513049</td>\n",
       "      <td>Albert Turk Graham Park</td>\n",
       "      <td>Park</td>\n",
       "      <td>Parks - Schenley</td>\n",
       "      <td>https://tools.wprdc.org/images/pittsburgh/park...</td>\n",
       "      <td>Crawford-Roberts</td>\n",
       "      <td>6</td>\n",
       "      <td>3</td>\n",
       "      <td>42003030500</td>\n",
       "      <td>3</td>\n",
       "      <td>3</td>\n",
       "      <td>2</td>\n",
       "      <td>2-1</td>\n",
       "      <td>40.440507</td>\n",
       "      <td>-79.984018</td>\n",
       "    </tr>\n",
       "    <tr>\n",
       "      <th>2</th>\n",
       "      <td>3</td>\n",
       "      <td>1544096765</td>\n",
       "      <td>Alcoa Park</td>\n",
       "      <td>Park</td>\n",
       "      <td>Parks - Northern</td>\n",
       "      <td>NaN</td>\n",
       "      <td>North Shore</td>\n",
       "      <td>1</td>\n",
       "      <td>22</td>\n",
       "      <td>42003563200</td>\n",
       "      <td>6</td>\n",
       "      <td>22</td>\n",
       "      <td>1</td>\n",
       "      <td>1-20</td>\n",
       "      <td>40.447481</td>\n",
       "      <td>-80.001017</td>\n",
       "    </tr>\n",
       "    <tr>\n",
       "      <th>3</th>\n",
       "      <td>4</td>\n",
       "      <td>1212681573</td>\n",
       "      <td>Allegheny Commons</td>\n",
       "      <td>Park</td>\n",
       "      <td>Parks - Northern</td>\n",
       "      <td>NaN</td>\n",
       "      <td>Allegheny Center</td>\n",
       "      <td>1</td>\n",
       "      <td>22</td>\n",
       "      <td>42003562700</td>\n",
       "      <td>1</td>\n",
       "      <td>22</td>\n",
       "      <td>1</td>\n",
       "      <td>1-7</td>\n",
       "      <td>40.453126</td>\n",
       "      <td>-80.009158</td>\n",
       "    </tr>\n",
       "    <tr>\n",
       "      <th>4</th>\n",
       "      <td>5</td>\n",
       "      <td>954863286</td>\n",
       "      <td>Allegheny Landing Park</td>\n",
       "      <td>Park</td>\n",
       "      <td>Parks - Northern</td>\n",
       "      <td>NaN</td>\n",
       "      <td>North Shore</td>\n",
       "      <td>1</td>\n",
       "      <td>22</td>\n",
       "      <td>42003563200</td>\n",
       "      <td>6</td>\n",
       "      <td>22</td>\n",
       "      <td>1</td>\n",
       "      <td>1-20</td>\n",
       "      <td>40.447184</td>\n",
       "      <td>-80.002907</td>\n",
       "    </tr>\n",
       "  </tbody>\n",
       "</table>\n",
       "</div>"
      ],
      "text/plain": [
       "   _id          id                     name  type maintenance_responsibility  \\\n",
       "0    1  2111959181           Able Long Park  Park           Parks - Southern   \n",
       "1    2  1109513049  Albert Turk Graham Park  Park           Parks - Schenley   \n",
       "2    3  1544096765               Alcoa Park  Park           Parks - Northern   \n",
       "3    4  1212681573        Allegheny Commons  Park           Parks - Northern   \n",
       "4    5   954863286   Allegheny Landing Park  Park           Parks - Northern   \n",
       "\n",
       "                                               image      neighborhood  \\\n",
       "0  https://tools.wprdc.org/images/pittsburgh/park...         Beechview   \n",
       "1  https://tools.wprdc.org/images/pittsburgh/park...  Crawford-Roberts   \n",
       "2                                                NaN       North Shore   \n",
       "3                                                NaN  Allegheny Center   \n",
       "4                                                NaN       North Shore   \n",
       "\n",
       "   council_district  ward        tract  public_works_division  pli_division  \\\n",
       "0                 4    19  42003192000                      5            19   \n",
       "1                 6     3  42003030500                      3             3   \n",
       "2                 1    22  42003563200                      6            22   \n",
       "3                 1    22  42003562700                      1            22   \n",
       "4                 1    22  42003563200                      6            22   \n",
       "\n",
       "   police_zone fire_zone   latitude  longitude  \n",
       "0            6      4-28  40.408118 -80.028197  \n",
       "1            2       2-1  40.440507 -79.984018  \n",
       "2            1      1-20  40.447481 -80.001017  \n",
       "3            1       1-7  40.453126 -80.009158  \n",
       "4            1      1-20  40.447184 -80.002907  "
      ]
     },
     "execution_count": 13,
     "metadata": {},
     "output_type": "execute_result"
    }
   ],
   "source": [
    "import pandas as pd\n",
    "\n",
    "park = pd.read_csv(\"PittsburghParks.csv\", sep=\",\")\n",
    "park.head()"
   ]
  },
  {
   "cell_type": "code",
   "execution_count": 1,
   "metadata": {},
   "outputs": [
    {
     "data": {
      "text/html": [
       "<div>\n",
       "<style scoped>\n",
       "    .dataframe tbody tr th:only-of-type {\n",
       "        vertical-align: middle;\n",
       "    }\n",
       "\n",
       "    .dataframe tbody tr th {\n",
       "        vertical-align: top;\n",
       "    }\n",
       "\n",
       "    .dataframe thead th {\n",
       "        text-align: right;\n",
       "    }\n",
       "</style>\n",
       "<table border=\"1\" class=\"dataframe\">\n",
       "  <thead>\n",
       "    <tr style=\"text-align: right;\">\n",
       "      <th></th>\n",
       "      <th>name</th>\n",
       "      <th>type</th>\n",
       "    </tr>\n",
       "  </thead>\n",
       "  <tbody>\n",
       "    <tr>\n",
       "      <th>1</th>\n",
       "      <td>Albert Turk Graham Park</td>\n",
       "      <td>Park</td>\n",
       "    </tr>\n",
       "    <tr>\n",
       "      <th>2</th>\n",
       "      <td>Alcoa Park</td>\n",
       "      <td>Park</td>\n",
       "    </tr>\n",
       "    <tr>\n",
       "      <th>3</th>\n",
       "      <td>Allegheny Commons</td>\n",
       "      <td>Park</td>\n",
       "    </tr>\n",
       "    <tr>\n",
       "      <th>4</th>\n",
       "      <td>Allegheny Landing Park</td>\n",
       "      <td>Park</td>\n",
       "    </tr>\n",
       "    <tr>\n",
       "      <th>5</th>\n",
       "      <td>Allegheny Riverfront Park</td>\n",
       "      <td>Park</td>\n",
       "    </tr>\n",
       "  </tbody>\n",
       "</table>\n",
       "</div>"
      ],
      "text/plain": [
       "                        name  type\n",
       "1    Albert Turk Graham Park  Park\n",
       "2                 Alcoa Park  Park\n",
       "3          Allegheny Commons  Park\n",
       "4     Allegheny Landing Park  Park\n",
       "5  Allegheny Riverfront Park  Park"
      ]
     },
     "execution_count": 1,
     "metadata": {},
     "output_type": "execute_result"
    }
   ],
   "source": [
    "import pandas as pd\n",
    "\n",
    "park = pd.read_csv(\"PittsburghParks.csv\", sep=\",\")\n",
    "\n",
    "trimUp = park.iloc[1:-1,2:4]\n",
    "\n",
    "trimUp.head()"
   ]
  },
  {
   "cell_type": "code",
   "execution_count": 10,
   "metadata": {},
   "outputs": [
    {
     "data": {
      "text/html": [
       "<div>\n",
       "<style scoped>\n",
       "    .dataframe tbody tr th:only-of-type {\n",
       "        vertical-align: middle;\n",
       "    }\n",
       "\n",
       "    .dataframe tbody tr th {\n",
       "        vertical-align: top;\n",
       "    }\n",
       "\n",
       "    .dataframe thead th {\n",
       "        text-align: right;\n",
       "    }\n",
       "</style>\n",
       "<table border=\"1\" class=\"dataframe\">\n",
       "  <thead>\n",
       "    <tr style=\"text-align: right;\">\n",
       "      <th></th>\n",
       "      <th>name</th>\n",
       "      <th>neighborhood</th>\n",
       "    </tr>\n",
       "  </thead>\n",
       "  <tbody>\n",
       "    <tr>\n",
       "      <th>1</th>\n",
       "      <td>Albert Turk Graham Park</td>\n",
       "      <td>Crawford-Roberts</td>\n",
       "    </tr>\n",
       "    <tr>\n",
       "      <th>2</th>\n",
       "      <td>Alcoa Park</td>\n",
       "      <td>North Shore</td>\n",
       "    </tr>\n",
       "    <tr>\n",
       "      <th>3</th>\n",
       "      <td>Allegheny Commons</td>\n",
       "      <td>Allegheny Center</td>\n",
       "    </tr>\n",
       "    <tr>\n",
       "      <th>4</th>\n",
       "      <td>Allegheny Landing Park</td>\n",
       "      <td>North Shore</td>\n",
       "    </tr>\n",
       "    <tr>\n",
       "      <th>5</th>\n",
       "      <td>Allegheny Riverfront Park</td>\n",
       "      <td>Central Business District</td>\n",
       "    </tr>\n",
       "  </tbody>\n",
       "</table>\n",
       "</div>"
      ],
      "text/plain": [
       "                        name               neighborhood\n",
       "1    Albert Turk Graham Park           Crawford-Roberts\n",
       "2                 Alcoa Park                North Shore\n",
       "3          Allegheny Commons           Allegheny Center\n",
       "4     Allegheny Landing Park                North Shore\n",
       "5  Allegheny Riverfront Park  Central Business District"
      ]
     },
     "execution_count": 10,
     "metadata": {},
     "output_type": "execute_result"
    }
   ],
   "source": [
    "import pandas as pd\n",
    "\n",
    "park = pd.read_csv(\"PittsburghParks.csv\", sep=\",\")\n",
    "\n",
    "trimUp = park.iloc[1:-1,2:7:4]\n",
    "\n",
    "trimUp.head()"
   ]
  },
  {
   "cell_type": "code",
   "execution_count": 13,
   "metadata": {},
   "outputs": [
    {
     "name": "stdout",
     "output_type": "stream",
     "text": [
      "dict_keys(['name', 'neighborhood'])\n"
     ]
    }
   ],
   "source": [
    "import pandas as pd\n",
    "\n",
    "park = pd.read_csv(\"PittsburghParks.csv\", sep=\",\")\n",
    "\n",
    "trimUp = park.iloc[1:-1,2:7:4]\n",
    "\n",
    "Dict = trimUp.to_dict()\n",
    "\n",
    "print(Dict.keys())"
   ]
  },
  {
   "cell_type": "code",
   "execution_count": 14,
   "metadata": {},
   "outputs": [
    {
     "name": "stdout",
     "output_type": "stream",
     "text": [
      "{1: 'Crawford-Roberts', 2: 'North Shore', 3: 'Allegheny Center', 4: 'North Shore', 5: 'Central Business District', 6: 'Central Northside', 7: 'Beechview', 8: 'East Liberty', 9: 'Bedford Dwellings', 10: 'South Side Slopes', 11: 'South Side Slopes', 12: 'South Side Flats', 13: 'Lower Lawrenceville', 14: 'Crawford-Roberts', 15: 'Banksville', 16: 'Banksville', 17: 'South Oakland', 18: 'East Liberty', 19: 'Homewood North', 20: 'Central Business District', 21: 'Beechview', 22: 'Beechview', 23: 'Hazelwood', 24: 'Bon Air', 25: 'Central Oakland', 26: 'Brighton Heights', 27: 'Brighton Heights', 28: 'Brookline', 29: 'Brookline', 30: 'Hazelwood', 31: 'Allegheny Center', 32: 'Hazelwood', 33: 'Spring Garden', 34: 'Lincoln-Lemington-Belmar', 35: 'Windgap', 36: 'South Side Slopes', 37: 'Troy Hill', 38: 'South Oakland', 39: 'Westwood', 40: 'Perry South', 41: 'Central Business District', 42: 'Homewood West', 43: 'Squirrel Hill South', 44: 'Strip District', 45: 'Arlington', 46: 'Stanton Heights', 47: 'Crafton Heights', 48: 'Upper Lawrenceville', 49: 'East Carnegie', 50: 'East Hills', 51: 'East Liberty', 52: 'East Liberty', 53: 'Point Breeze', 54: 'South Side Slopes', 55: 'Allentown', 56: 'Allentown', 57: 'Duquesne Heights', 58: 'Duquesne Heights', 59: 'Mount Washington', 60: 'Mount Washington', 61: 'Mount Washington', 62: 'Mount Washington', 63: 'Mount Washington', 64: 'East Liberty', 65: 'Esplen', 66: 'Fairywood', 67: 'Upper Lawrenceville', 68: 'Fineview', 69: 'Fineview', 70: 'Central Business District', 71: 'Garfield', 72: 'Greenfield', 73: 'Perry South', 74: 'Strip District', 75: 'Larimer', 76: 'South Oakland', 77: 'Squirrel Hill South', 78: 'Bloomfield', 79: 'Troy Hill', 80: 'East Liberty', 81: 'Perry North', 82: 'Hazelwood', 83: 'Point Breeze', 84: 'Point Breeze', 85: 'Beechview', 86: 'Crawford-Roberts', 87: 'North Oakland', 88: 'Hays', 89: 'Hazelwood', 90: 'Elliott', 91: 'Highland Park', 92: 'East Liberty', 93: 'Highland Park', 94: 'Homewood South', 95: 'Homewood North', 96: 'Central Business District', 97: 'Central Northside', 98: 'Morningside', 99: 'Terrace Village', 100: 'Garfield', 101: 'Larimer', 102: 'South Oakland', 103: 'Point Breeze', 104: 'Brighton Heights', 105: 'Spring Hill-City View', 106: 'Carrick', 107: 'Central Lawrenceville', 108: 'Hazelwood', 109: 'Central Business District', 110: 'Lincoln Place', 111: 'Mount Washington', 112: 'Troy Hill', 113: 'Central Northside', 114: 'Greenfield', 115: 'Manchester', 116: 'Manchester', 117: 'Central Business District', 118: 'Brighton Heights', 119: 'Marshall-Shadeland', 120: 'Terrace Village', 121: 'Lincoln Place', 122: 'Upper Lawrenceville', 123: 'Sheraden', 124: 'Beltzhoover', 125: 'Manchester', 126: 'Point Breeze North', 127: 'Point Breeze', 128: 'Point Breeze', 129: 'Central Business District', 130: 'Squirrel Hill South', 131: 'South Side Slopes', 132: 'Central Business District', 133: 'Brookline', 134: 'Bloomfield', 135: 'Sheraden', 136: 'East Liberty', 137: 'East Liberty', 138: 'Larimer', 139: 'East Liberty', 140: 'Garfield', 141: 'South Oakland', 142: 'North Shore', 143: 'Central Oakland', 144: 'Oakwood', 145: 'South Side Flats', 146: 'South Side Flats', 147: 'Bloomfield', 148: 'Central Oakland', 149: 'Lower Lawrenceville', 150: 'Beechview', 151: 'Lincoln-Lemington-Belmar', 152: 'Lincoln-Lemington-Belmar', 153: 'Carrick', 154: 'Polish Hill', 155: 'Regent Square', 156: 'Point Breeze', 157: 'Perry North', 158: 'Upper Hill', 159: 'New Homestead', 160: 'East Liberty', 161: 'Squirrel Hill South', 162: 'Greenfield', 163: 'Squirrel Hill South', 164: 'Spring Hill-City View', 165: 'West Oakland', 166: 'Sheraden', 167: 'Sheraden', 168: 'Sheraden', 169: 'South Side Flats', 170: 'South Side Slopes', 171: 'South Side Flats', 172: 'Spring Garden', 173: 'Spring Hill-City View', 174: 'Crafton Heights', 175: 'Lower Lawrenceville', 176: 'Swisshelm Park', 177: 'Swisshelm Park', 178: 'Point Breeze North', 179: 'Central Business District', 180: 'Elliott', 181: 'Beechview', 182: 'Troy Hill', 183: 'Bluff', 184: 'Sheraden', 185: 'Beechview', 186: 'Beltzhoover', 187: 'Squirrel Hill South', 188: 'Middle Hill', 189: 'Carrick', 190: 'West End', 191: 'Beltzhoover', 192: 'Marshall-Shadeland', 193: 'Troy Hill', 194: 'Elliott', 195: 'West End', 196: 'Elliott', 197: 'Polish Hill', 198: 'Point Breeze North', 199: 'Westwood', 200: 'Westwood', 201: 'Squirrel Hill North', 202: 'Swisshelm Park', 203: 'South Side Slopes', 204: 'Marshall-Shadeland', 205: 'Marshall-Shadeland', 206: 'Central Oakland', 207: 'East Liberty'}\n"
     ]
    }
   ],
   "source": [
    "import pandas as pd\n",
    "\n",
    "park = pd.read_csv(\"PittsburghParks.csv\", sep=\",\")\n",
    "\n",
    "trimUp = park.iloc[1:-1,2:7:4]\n",
    "\n",
    "Dict = trimUp.to_dict()\n",
    "\n",
    "print(Dict['neighborhood'])"
   ]
  },
  {
   "cell_type": "code",
   "execution_count": 17,
   "metadata": {},
   "outputs": [
    {
     "name": "stdout",
     "output_type": "stream",
     "text": [
      "{'Crawford-Roberts': 3, 'North Shore': 3, 'Allegheny Center': 2, 'Central Business District': 10, 'Central Northside': 3, 'Beechview': 7, 'East Liberty': 11, 'Bedford Dwellings': 1, 'South Side Slopes': 7, 'South Side Flats': 5, 'Lower Lawrenceville': 3, 'Banksville': 2, 'South Oakland': 5, 'Homewood North': 2, 'Hazelwood': 6, 'Bon Air': 1, 'Central Oakland': 4, 'Brighton Heights': 4, 'Brookline': 3, 'Spring Garden': 2, 'Lincoln-Lemington-Belmar': 3, 'Windgap': 1, 'Troy Hill': 5, 'Westwood': 3, 'Perry South': 2, 'Homewood West': 1, 'Squirrel Hill South': 6, 'Strip District': 2, 'Arlington': 1, 'Stanton Heights': 1, 'Crafton Heights': 2, 'Upper Lawrenceville': 3, 'East Carnegie': 1, 'East Hills': 1, 'Point Breeze': 7, 'Allentown': 2, 'Duquesne Heights': 2, 'Mount Washington': 6, 'Esplen': 1, 'Fairywood': 1, 'Fineview': 2, 'Garfield': 3, 'Greenfield': 3, 'Larimer': 3, 'Bloomfield': 3, 'Perry North': 2, 'North Oakland': 1, 'Hays': 1, 'Elliott': 4, 'Highland Park': 2, 'Homewood South': 1, 'Morningside': 1, 'Terrace Village': 2, 'Spring Hill-City View': 3, 'Carrick': 3, 'Central Lawrenceville': 1, 'Lincoln Place': 2, 'Manchester': 3, 'Marshall-Shadeland': 4, 'Sheraden': 6, 'Beltzhoover': 3, 'Point Breeze North': 3, 'Oakwood': 1, 'Polish Hill': 2, 'Regent Square': 1, 'Upper Hill': 1, 'New Homestead': 1, 'West Oakland': 1, 'Swisshelm Park': 3, 'Bluff': 1, 'Middle Hill': 1, 'West End': 2, 'Squirrel Hill North': 1}\n"
     ]
    }
   ],
   "source": [
    "import pandas as pd\n",
    "\n",
    "park = pd.read_csv(\"PittsburghParks.csv\", sep=\",\")\n",
    "\n",
    "trimUp = park.iloc[1:-1,2:7:4]\n",
    "\n",
    "Dict = trimUp.to_dict()\n",
    "\n",
    "countDict = {}\n",
    "\n",
    "for i in range(1,len(Dict['neighborhood'])):\n",
    "    name = Dict['neighborhood'][i]\n",
    "    \n",
    "    if name not in countDict:\n",
    "        countDict[name] = 1\n",
    "    else:\n",
    "        countDict[name] = countDict[name] + 1\n",
    "    \n",
    "print(countDict)"
   ]
  },
  {
   "cell_type": "markdown",
   "metadata": {},
   "source": [
    "## Monday, April 8th ##"
   ]
  },
  {
   "cell_type": "code",
   "execution_count": 2,
   "metadata": {},
   "outputs": [
    {
     "name": "stdout",
     "output_type": "stream",
     "text": [
      "dict_keys(['Crawford-Roberts', 'North Shore', 'Allegheny Center', 'Central Business District', 'Central Northside', 'Beechview', 'East Liberty', 'Bedford Dwellings', 'South Side Slopes', 'South Side Flats', 'Lower Lawrenceville', 'Banksville', 'South Oakland', 'Homewood North', 'Hazelwood', 'Bon Air', 'Central Oakland', 'Brighton Heights', 'Brookline', 'Spring Garden', 'Lincoln-Lemington-Belmar', 'Windgap', 'Troy Hill', 'Westwood', 'Perry South', 'Homewood West', 'Squirrel Hill South', 'Strip District', 'Arlington', 'Stanton Heights', 'Crafton Heights', 'Upper Lawrenceville', 'East Carnegie', 'East Hills', 'Point Breeze', 'Allentown', 'Duquesne Heights', 'Mount Washington', 'Esplen', 'Fairywood', 'Fineview', 'Garfield', 'Greenfield', 'Larimer', 'Bloomfield', 'Perry North', 'North Oakland', 'Hays', 'Elliott', 'Highland Park', 'Homewood South', 'Morningside', 'Terrace Village', 'Spring Hill-City View', 'Carrick', 'Central Lawrenceville', 'Lincoln Place', 'Manchester', 'Marshall-Shadeland', 'Sheraden', 'Beltzhoover', 'Point Breeze North', 'Oakwood', 'Polish Hill', 'Regent Square', 'Upper Hill', 'New Homestead', 'West Oakland', 'Swisshelm Park', 'Bluff', 'Middle Hill', 'West End', 'Squirrel Hill North'])\n"
     ]
    }
   ],
   "source": [
    "import pandas as pd\n",
    "\n",
    "park = pd.read_csv(\"PittsburghParks.csv\", sep=\",\")\n",
    "\n",
    "trimUp = park.iloc[1:-1,2:7:4]\n",
    "\n",
    "Dict = trimUp.to_dict()\n",
    "\n",
    "countDict = {}\n",
    "\n",
    "for i in range(1,len(Dict['neighborhood'])):\n",
    "    name = Dict['neighborhood'][i]\n",
    "    \n",
    "    if name not in countDict:\n",
    "        countDict[name] = 1\n",
    "    else:\n",
    "        countDict[name] = countDict[name] + 1\n",
    "        \n",
    "neighborhoods = countDict.keys()\n",
    "\n",
    "print(neighborhoods)"
   ]
  },
  {
   "cell_type": "code",
   "execution_count": 7,
   "metadata": {},
   "outputs": [
    {
     "name": "stdout",
     "output_type": "stream",
     "text": [
      "Crawford-Roberts: 3 parks areas.\n",
      "North Shore: 3 parks areas.\n",
      "Allegheny Center: 2 parks areas.\n",
      "Central Business District: 10 parks areas.\n",
      "Central Northside: 3 parks areas.\n",
      "Beechview: 7 parks areas.\n",
      "East Liberty: 11 parks areas.\n",
      "Bedford Dwellings: 1 parks areas.\n",
      "South Side Slopes: 7 parks areas.\n",
      "South Side Flats: 5 parks areas.\n",
      "Lower Lawrenceville: 3 parks areas.\n",
      "Banksville: 2 parks areas.\n",
      "South Oakland: 5 parks areas.\n",
      "Homewood North: 2 parks areas.\n",
      "Hazelwood: 6 parks areas.\n",
      "Bon Air: 1 parks areas.\n",
      "Central Oakland: 4 parks areas.\n",
      "Brighton Heights: 4 parks areas.\n",
      "Brookline: 3 parks areas.\n",
      "Spring Garden: 2 parks areas.\n",
      "Lincoln-Lemington-Belmar: 3 parks areas.\n",
      "Windgap: 1 parks areas.\n",
      "Troy Hill: 5 parks areas.\n",
      "Westwood: 3 parks areas.\n",
      "Perry South: 2 parks areas.\n",
      "Homewood West: 1 parks areas.\n",
      "Squirrel Hill South: 6 parks areas.\n",
      "Strip District: 2 parks areas.\n",
      "Arlington: 1 parks areas.\n",
      "Stanton Heights: 1 parks areas.\n",
      "Crafton Heights: 2 parks areas.\n",
      "Upper Lawrenceville: 3 parks areas.\n",
      "East Carnegie: 1 parks areas.\n",
      "East Hills: 1 parks areas.\n",
      "Point Breeze: 7 parks areas.\n",
      "Allentown: 2 parks areas.\n",
      "Duquesne Heights: 2 parks areas.\n",
      "Mount Washington: 6 parks areas.\n",
      "Esplen: 1 parks areas.\n",
      "Fairywood: 1 parks areas.\n",
      "Fineview: 2 parks areas.\n",
      "Garfield: 3 parks areas.\n",
      "Greenfield: 3 parks areas.\n",
      "Larimer: 3 parks areas.\n",
      "Bloomfield: 3 parks areas.\n",
      "Perry North: 2 parks areas.\n",
      "North Oakland: 1 parks areas.\n",
      "Hays: 1 parks areas.\n",
      "Elliott: 4 parks areas.\n",
      "Highland Park: 2 parks areas.\n",
      "Homewood South: 1 parks areas.\n",
      "Morningside: 1 parks areas.\n",
      "Terrace Village: 2 parks areas.\n",
      "Spring Hill-City View: 3 parks areas.\n",
      "Carrick: 3 parks areas.\n",
      "Central Lawrenceville: 1 parks areas.\n",
      "Lincoln Place: 2 parks areas.\n",
      "Manchester: 3 parks areas.\n",
      "Marshall-Shadeland: 4 parks areas.\n",
      "Sheraden: 6 parks areas.\n",
      "Beltzhoover: 3 parks areas.\n",
      "Point Breeze North: 3 parks areas.\n",
      "Oakwood: 1 parks areas.\n",
      "Polish Hill: 2 parks areas.\n",
      "Regent Square: 1 parks areas.\n",
      "Upper Hill: 1 parks areas.\n",
      "New Homestead: 1 parks areas.\n",
      "West Oakland: 1 parks areas.\n",
      "Swisshelm Park: 3 parks areas.\n",
      "Bluff: 1 parks areas.\n",
      "Middle Hill: 1 parks areas.\n",
      "West End: 2 parks areas.\n",
      "Squirrel Hill North: 1 parks areas.\n"
     ]
    }
   ],
   "source": [
    "import pandas as pd\n",
    "\n",
    "park = pd.read_csv(\"PittsburghParks.csv\", sep=\",\")\n",
    "\n",
    "trimUp = park.iloc[1:-1,2:7:4]\n",
    "\n",
    "Dict = trimUp.to_dict()\n",
    "\n",
    "countDict = {}\n",
    "\n",
    "for i in range(1,len(Dict['neighborhood'])):\n",
    "    name = Dict['neighborhood'][i]\n",
    "    \n",
    "    if name not in countDict:\n",
    "        countDict[name] = 1\n",
    "    else:\n",
    "        countDict[name] = countDict[name] + 1\n",
    "        \n",
    "neighborhoods = list(countDict.keys())\n",
    "\n",
    "for hood in neighborhoods:\n",
    "    print(hood + \": \" + str(countDict[hood]) + \" parks areas.\")"
   ]
  },
  {
   "cell_type": "code",
   "execution_count": 10,
   "metadata": {},
   "outputs": [
    {
     "name": "stdout",
     "output_type": "stream",
     "text": [
      "{'Bedford Dwellings': 1, 'Bon Air': 1, 'Windgap': 1, 'Homewood West': 1, 'Arlington': 1, 'Stanton Heights': 1, 'East Carnegie': 1, 'East Hills': 1, 'Esplen': 1, 'Fairywood': 1, 'North Oakland': 1, 'Hays': 1, 'Homewood South': 1, 'Morningside': 1, 'Central Lawrenceville': 1, 'Oakwood': 1, 'Regent Square': 1, 'Upper Hill': 1, 'New Homestead': 1, 'West Oakland': 1, 'Bluff': 1, 'Middle Hill': 1, 'Squirrel Hill North': 1, 'Allegheny Center': 2, 'Banksville': 2, 'Homewood North': 2, 'Spring Garden': 2, 'Perry South': 2, 'Strip District': 2, 'Crafton Heights': 2, 'Allentown': 2, 'Duquesne Heights': 2, 'Fineview': 2, 'Perry North': 2, 'Highland Park': 2, 'Terrace Village': 2, 'Lincoln Place': 2, 'Polish Hill': 2, 'West End': 2, 'Crawford-Roberts': 3, 'North Shore': 3, 'Central Northside': 3, 'Lower Lawrenceville': 3, 'Brookline': 3, 'Lincoln-Lemington-Belmar': 3, 'Westwood': 3, 'Upper Lawrenceville': 3, 'Garfield': 3, 'Greenfield': 3, 'Larimer': 3, 'Bloomfield': 3, 'Spring Hill-City View': 3, 'Carrick': 3, 'Manchester': 3, 'Beltzhoover': 3, 'Point Breeze North': 3, 'Swisshelm Park': 3, 'Central Oakland': 4, 'Brighton Heights': 4, 'Elliott': 4, 'Marshall-Shadeland': 4, 'South Side Flats': 5, 'South Oakland': 5, 'Troy Hill': 5, 'Hazelwood': 6, 'Squirrel Hill South': 6, 'Mount Washington': 6, 'Sheraden': 6, 'Beechview': 7, 'South Side Slopes': 7, 'Point Breeze': 7, 'Central Business District': 10, 'East Liberty': 11}\n"
     ]
    }
   ],
   "source": [
    "import pandas as pd\n",
    "\n",
    "park = pd.read_csv(\"PittsburghParks.csv\", sep=\",\")\n",
    "\n",
    "trimUp = park.iloc[1:-1,2:7:4]\n",
    "\n",
    "Dict = trimUp.to_dict()\n",
    "\n",
    "countDict = {}\n",
    "\n",
    "for i in range(1,len(Dict['neighborhood'])):\n",
    "    name = Dict['neighborhood'][i]\n",
    "    \n",
    "    if name not in countDict:\n",
    "        countDict[name] = 1\n",
    "    else:\n",
    "        countDict[name] = countDict[name] + 1\n",
    "        \n",
    "neighborhoods = list(countDict.keys())\n",
    "\n",
    "#source: https://www.freecodecamp.org/news/sort-dictionary-by-value-in-python/\n",
    "sortedCountDict = sorted(countDict.items(), key=lambda x:x[1])\n",
    "finalDict = dict(sortedCountDict)\n",
    "\n",
    "print(finalDict)\n"
   ]
  },
  {
   "cell_type": "code",
   "execution_count": 11,
   "metadata": {},
   "outputs": [
    {
     "name": "stdout",
     "output_type": "stream",
     "text": [
      "{'East Liberty': 11, 'Central Business District': 10, 'Beechview': 7, 'South Side Slopes': 7, 'Point Breeze': 7, 'Hazelwood': 6, 'Squirrel Hill South': 6, 'Mount Washington': 6, 'Sheraden': 6, 'South Side Flats': 5, 'South Oakland': 5, 'Troy Hill': 5, 'Central Oakland': 4, 'Brighton Heights': 4, 'Elliott': 4, 'Marshall-Shadeland': 4, 'Crawford-Roberts': 3, 'North Shore': 3, 'Central Northside': 3, 'Lower Lawrenceville': 3, 'Brookline': 3, 'Lincoln-Lemington-Belmar': 3, 'Westwood': 3, 'Upper Lawrenceville': 3, 'Garfield': 3, 'Greenfield': 3, 'Larimer': 3, 'Bloomfield': 3, 'Spring Hill-City View': 3, 'Carrick': 3, 'Manchester': 3, 'Beltzhoover': 3, 'Point Breeze North': 3, 'Swisshelm Park': 3, 'Allegheny Center': 2, 'Banksville': 2, 'Homewood North': 2, 'Spring Garden': 2, 'Perry South': 2, 'Strip District': 2, 'Crafton Heights': 2, 'Allentown': 2, 'Duquesne Heights': 2, 'Fineview': 2, 'Perry North': 2, 'Highland Park': 2, 'Terrace Village': 2, 'Lincoln Place': 2, 'Polish Hill': 2, 'West End': 2, 'Bedford Dwellings': 1, 'Bon Air': 1, 'Windgap': 1, 'Homewood West': 1, 'Arlington': 1, 'Stanton Heights': 1, 'East Carnegie': 1, 'East Hills': 1, 'Esplen': 1, 'Fairywood': 1, 'North Oakland': 1, 'Hays': 1, 'Homewood South': 1, 'Morningside': 1, 'Central Lawrenceville': 1, 'Oakwood': 1, 'Regent Square': 1, 'Upper Hill': 1, 'New Homestead': 1, 'West Oakland': 1, 'Bluff': 1, 'Middle Hill': 1, 'Squirrel Hill North': 1}\n"
     ]
    }
   ],
   "source": [
    "import pandas as pd\n",
    "\n",
    "park = pd.read_csv(\"PittsburghParks.csv\", sep=\",\")\n",
    "\n",
    "trimUp = park.iloc[1:-1,2:7:4]\n",
    "\n",
    "Dict = trimUp.to_dict()\n",
    "\n",
    "countDict = {}\n",
    "\n",
    "for i in range(1,len(Dict['neighborhood'])):\n",
    "    name = Dict['neighborhood'][i]\n",
    "    \n",
    "    if name not in countDict:\n",
    "        countDict[name] = 1\n",
    "    else:\n",
    "        countDict[name] = countDict[name] + 1\n",
    "        \n",
    "\n",
    "#source: https://www.freecodecamp.org/news/sort-dictionary-by-value-in-python/\n",
    "sortedCountDict = sorted(countDict.items(), key=lambda x:x[1], reverse = True)\n",
    "finalDict = dict(sortedCountDict)\n",
    "\n",
    "print(finalDict)"
   ]
  },
  {
   "cell_type": "code",
   "execution_count": 18,
   "metadata": {},
   "outputs": [
    {
     "name": "stdout",
     "output_type": "stream",
     "text": [
      "East Liberty: 11 parks.\n",
      "Central Business District: 10 parks.\n",
      "Beechview: 7 parks.\n",
      "South Side Slopes: 7 parks.\n",
      "Point Breeze: 7 parks.\n"
     ]
    }
   ],
   "source": [
    "import pandas as pd\n",
    "\n",
    "park = pd.read_csv(\"PittsburghParks.csv\", sep=\",\")\n",
    "\n",
    "trimUp = park.iloc[1:-1,2:7:4]\n",
    "\n",
    "Dict = trimUp.to_dict()\n",
    "\n",
    "countDict = {}\n",
    "\n",
    "for i in range(1,len(Dict['neighborhood'])):\n",
    "    name = Dict['neighborhood'][i]\n",
    "    \n",
    "    if name not in countDict:\n",
    "        countDict[name] = 1\n",
    "    else:\n",
    "        countDict[name] = countDict[name] + 1\n",
    "        \n",
    "\n",
    "#source: https://www.freecodecamp.org/news/sort-dictionary-by-value-in-python/\n",
    "sortedCountDict = sorted(countDict.items(), key=lambda x:x[1], reverse = True)\n",
    "finalDict = dict(sortedCountDict)\n",
    "\n",
    "finalKeys = list(finalDict.keys())\n",
    "\n",
    "count = 0\n",
    "for key in finalKeys:\n",
    "    if count < 5:\n",
    "        print(key + \": \" + str(finalDict[key]) + \" parks.\")\n",
    "        count += 1"
   ]
  },
  {
   "cell_type": "code",
   "execution_count": 40,
   "metadata": {},
   "outputs": [
    {
     "data": {
      "image/png": "[encoded data removed]",
      "text/plain": [
       "<Figure size 2160x720 with 1 Axes>"
      ]
     },
     "metadata": {
      "needs_background": "light"
     },
     "output_type": "display_data"
    }
   ],
   "source": [
    "import pandas as pd\n",
    "\n",
    "park = pd.read_csv(\"PittsburghParks.csv\", sep=\",\")\n",
    "\n",
    "trimUp = park.iloc[1:-1,2:7:4]\n",
    "\n",
    "Dict = trimUp.to_dict()\n",
    "\n",
    "countDict = {}\n",
    "\n",
    "for i in range(1,len(Dict['neighborhood'])):\n",
    "    name = Dict['neighborhood'][i]\n",
    "    \n",
    "    if name not in countDict:\n",
    "        countDict[name] = 1\n",
    "    else:\n",
    "        countDict[name] = countDict[name] + 1\n",
    "        \n",
    "\n",
    "#source: https://www.freecodecamp.org/news/sort-dictionary-by-value-in-python/\n",
    "sortedCountDict = sorted(countDict.items(), key=lambda x:x[1], reverse = True)\n",
    "\n",
    "finalDict = {}\n",
    "\n",
    "for i in range (1, len(sortedCountDict)):\n",
    "\n",
    "    finalDict[sortedCountDict[i][0]] = sortedCountDict[i][1]\n",
    "\n",
    "finalKeys = list(finalDict.keys())\n",
    "\n",
    "finalVals = list(finalDict.values())\n",
    "\n",
    "df = pd.DataFrame({'Neighborhood':finalKeys, 'Number of Parks':finalVals})\n",
    "ax = df.plot.bar(x='Neighborhood', y='Number of Parks', rot=0, title = \"Pittsburgh Neighborhood parks\", figsize = (30,10))"
   ]
  },
  {
   "cell_type": "markdown",
   "metadata": {},
   "source": [
    "## The top 5 neighborhoods in Pittsburgh with the most parks are: ##\n",
    "\n",
    "### 1. East Liberty: 11 parks. ###\n",
    "### 2. Central Business District: 10 parks. ###\n",
    "### 3. Beechview: 7 parks. ###\n",
    "### 4. South Side Slopes: 7 parks. ###\n",
    "### 5. Point Breeze: 7 parks. ###\n",
    "\n",
    "## So East Liberty is the best neighborhood in pittsburgh for the submetric of parks ##"
   ]
  },
  {
   "cell_type": "markdown",
   "metadata": {},
   "source": [
    "## Tuesday April 9th ##"
   ]
  },
  {
   "cell_type": "code",
   "execution_count": 31,
   "metadata": {},
   "outputs": [
    {
     "data": {
      "image/png": "[encoded data removed]",
      "text/plain": [
       "<Figure size 2160x720 with 1 Axes>"
      ]
     },
     "metadata": {
      "needs_background": "light"
     },
     "output_type": "display_data"
    }
   ],
   "source": [
    "import pandas as pd\n",
    "\n",
    "art = pd.read_csv(\"PublicArt.csv\", sep=\",\")\n",
    "\n",
    "hood = art.iloc[1:-1,3:9:5]\n",
    "\n",
    "\n",
    "dict = hood.to_dict()\n",
    "\n",
    "countDict = {}\n",
    "\n",
    "for i in range(1,len(dict['neighborhood'])):\n",
    "    name = dict['neighborhood'][i]\n",
    "    \n",
    "    if name not in countDict:\n",
    "        countDict[name] = 1\n",
    "    else:\n",
    "        countDict[name] = countDict[name] + 1\n",
    "        \n",
    "keys = countDict.keys()\n",
    "\n",
    "values = countDict.values()\n",
    "\n",
    "df = pd.DataFrame({'Neighborhood':keys, 'Number of Artworks':values})\n",
    "ax = df.plot.bar(x= 'Neighborhood', y= 'Number of Artworks', rot=0, title = \"Pittsburgh Neighborhood Art\", figsize = (30,10))\n"
   ]
  },
  {
   "cell_type": "code",
   "execution_count": null,
   "metadata": {},
   "outputs": [],
   "source": [
    "import pandas as pd\n",
    "\n",
    "art = pd.read_csv(\"PublicArt.csv\", sep=\",\")\n",
    "\n",
    "hood = art.iloc[1:-1,3:9:5]\n",
    "\n",
    "\n",
    "dict = hood.to_dict()\n",
    "\n",
    "countDict = {}\n",
    "\n",
    "for i in range(1,len(dict['neighborhood'])):\n",
    "    name = dict['neighborhood'][i]\n",
    "    \n",
    "    if name not in countDict:\n",
    "        countDict[name] = 1\n",
    "    else:\n",
    "        countDict[name] = countDict[name] + 1\n",
    "     \n",
    "    \n",
    "sortedCountDict = sorted(countDict.items(), key=lambda x:x[1], reverse = True)\n",
    "finalDict = {}\n",
    "\n",
    "for i in range (1, len(sortedCountDict)):\n",
    "\n",
    "    finalDict[sortedCountDict[i][0]] = sortedCountDict[i][1]\n",
    "\n",
    "keys = list(finalDict.keys())\n",
    "\n",
    "values = list(finalDict.values())\n",
    "\n",
    "df = pd.DataFrame({'Neighborhood':keys, 'Number of Artworks':values})\n",
    "ax = df.plot.bar(x= 'Neighborhood', y= 'Number of Artworks', title = \"Pittsburgh Neighborhood Art\", figsize = (30,10))\n",
    "\n",
    "    "
   ]
  },
  {
   "cell_type": "code",
   "execution_count": 43,
   "metadata": {},
   "outputs": [
    {
     "name": "stdout",
     "output_type": "stream",
     "text": [
      "Squirrel Hill South: 20 works.\n",
      "Allegheny Center: 18 works.\n",
      "Highland Park: 10 works.\n",
      "South Side Flats: 9 works.\n",
      "Beechview: 7 works.\n"
     ]
    }
   ],
   "source": [
    "import pandas as pd\n",
    "\n",
    "art = pd.read_csv(\"PublicArt.csv\", sep=\",\")\n",
    "\n",
    "hood = art.iloc[1:-1,3:9:5]\n",
    "\n",
    "\n",
    "dict = hood.to_dict()\n",
    "\n",
    "countDict = {}\n",
    "\n",
    "for i in range(1,len(dict['neighborhood'])):\n",
    "    name = dict['neighborhood'][i]\n",
    "    \n",
    "    if name not in countDict:\n",
    "        countDict[name] = 1\n",
    "    else:\n",
    "        countDict[name] = countDict[name] + 1\n",
    "     \n",
    "    \n",
    "sortedCountDict = sorted(countDict.items(), key=lambda x:x[1], reverse = True)\n",
    "finalDict = {}\n",
    "\n",
    "for i in range (1, len(sortedCountDict)):\n",
    "\n",
    "    finalDict[sortedCountDict[i][0]] = sortedCountDict[i][1]\n",
    "\n",
    "keys = finalDict.keys()\n",
    "\n",
    "values = finalDict.values()\n",
    "\n",
    "count = 0\n",
    "for key in keys:\n",
    "    if count < 5:\n",
    "        print(key + \": \" + str(finalDict[key]) + \" works.\")\n",
    "        count += 1"
   ]
  },
  {
   "cell_type": "markdown",
   "metadata": {},
   "source": [
    "## The top 5 neighborhoods in Pittsburgh with the most public works of art are: ##\n",
    "\n",
    "### 1. Squirrel Hill South: 20 works ###\n",
    "### 2. Allegheny Center: 18 works. ###\n",
    "### 3. Highland Park: 10 works. ###\n",
    "### 4. South Side Flat: 9 works. ###\n",
    "### 5. Beechview: 7 works. ###\n",
    "\n",
    "## Squirrel Hill South is the best neighborhood in pittsburgh for the submetric of parks ##"
   ]
  },
  {
   "cell_type": "code",
   "execution_count": null,
   "metadata": {},
   "outputs": [],
   "source": []
  }
 ],
 "metadata": {
  "kernelspec": {
   "display_name": "Python 3",
   "language": "python",
   "name": "python3"
  },
  "language_info": {
   "codemirror_mode": {
    "name": "ipython",
    "version": 3
   },
   "file_extension": ".py",
   "mimetype": "text/x-python",
   "name": "python",
   "nbconvert_exporter": "python",
   "pygments_lexer": "ipython3",
   "version": "3.8.3"
  }
 },
 "nbformat": 4,
 "nbformat_minor": 4
}
